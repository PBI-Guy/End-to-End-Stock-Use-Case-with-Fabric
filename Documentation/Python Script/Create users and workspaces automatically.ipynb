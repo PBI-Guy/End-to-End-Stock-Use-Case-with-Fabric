{
 "cells": [
  {
   "cell_type": "code",
   "execution_count": null,
   "id": "6cbb31b4-7f48-435e-81a4-8f43e0ce3841",
   "metadata": {
    "jupyter": {
     "outputs_hidden": true
    },
    "microsoft": {
     "language": "python",
     "language_group": "synapse_pyspark"
    }
   },
   "outputs": [],
   "source": [
    "#sempy version 0.4.0 or higher\n",
    "!pip install semantic-link --q \n",
    "!pip install semantic-link-labs\n",
    "\n",
    "import pandas as pd\n",
    "import sempy.fabric as fabric\n",
    "import sempy_labs\n",
    "\n",
    "#Instantiate the client\n",
    "client = fabric.FabricRestClient()"
   ]
  },
  {
   "cell_type": "code",
   "execution_count": null,
   "id": "05162c4f-2f2c-446d-9694-9b3d47249bcd",
   "metadata": {
    "microsoft": {
     "language": "python",
     "language_group": "synapse_pyspark"
    }
   },
   "outputs": [],
   "source": [
    "def create_workspace(payload:dict):\n",
    "\n",
    "    try:\n",
    "        response = client.post(f\"/v1/workspaces\",json= payload)\n",
    "\n",
    "        if response.status_code != 201:\n",
    "            raise FabricHTTPException(response)\n",
    "\n",
    "    except WorkspaceNotFoundException as e:\n",
    "        print(\"Caught a WorkspaceNotFoundException:\", e)\n",
    "    except FabricHTTPException as e:\n",
    "        print(\"Caught a FabricHTTPException. Check the API endpoint, authentication.\")\n",
    "\n",
    "    return"
   ]
  },
  {
   "cell_type": "code",
   "execution_count": 1,
   "id": "bdf478d7-f6c7-415c-ae1b-803561a9f874",
   "metadata": {
    "microsoft": {
     "language": "python",
     "language_group": "synapse_pyspark"
    }
   },
   "outputs": [
    {
     "data": {
      "application/vnd.livy.statement-meta+json": {
       "execution_finish_time": null,
       "execution_start_time": null,
       "livy_statement_state": null,
       "normalized_state": "session_starting",
       "parent_msg_id": "77559d91-adf2-409a-854c-3f8f6e7ae0d5",
       "queued_time": "2025-06-29T18:12:24.4584222Z",
       "session_id": null,
       "session_start_time": "2025-06-29T18:12:24.4594986Z",
       "spark_pool": null,
       "state": "session_starting",
       "statement_id": -1,
       "statement_ids": []
      },
      "text/plain": [
       "StatementMeta(, , -1, SessionStarting, , SessionStarting)"
      ]
     },
     "metadata": {},
     "output_type": "display_data"
    }
   ],
   "source": [
    "displayname = \"fabricuser\" #change to whatever you want\n",
    "number = 1  # Starting counter\n",
    "\n",
    "while number <= 15:  # Loop until number reaches 15\n",
    "    payload = {\n",
    "    \"displayName\": f\"{displayname}{number}\" \n",
    "    }  # Combine base name with current number\n",
    "    create_workspace(payload)  # Function call with generated payload\n",
    "    #print(payload)\n",
    "    number += 1  # Increment counter"
   ]
  },
  {
   "cell_type": "code",
   "execution_count": null,
   "id": "b5d268bf-ea05-43c6-8b4b-c9c82254c40c",
   "metadata": {
    "microsoft": {
     "language": "python",
     "language_group": "synapse_pyspark"
    }
   },
   "outputs": [],
   "source": [
    "displayname = \"fabricuser\" #change to whatever you want\n",
    "domain = \"@domainname.onmicrosoft.com\"  #insert your domainname\n",
    "number = 1  # Starting counter\n",
    "\n",
    "while number <= 15:  # Loop until number reaches 15\n",
    "    user =  f\"{displayname}{number}{domain}\"  # Concatenate displayname, number, and domain\n",
    "    workspace = f\"{displayname}{number}\" \n",
    "    sempy_labs.admin.add_user_to_workspace(user,'Admin','User',workspace)\n",
    "    #print(payload)\n",
    "    number += 1  # Increment counter"
   ]
  },
  {
   "cell_type": "code",
   "execution_count": null,
   "id": "8e48cbc2-e7d6-4fe4-9cd3-04fadaaf7ef2",
   "metadata": {
    "microsoft": {
     "language": "python",
     "language_group": "synapse_pyspark"
    }
   },
   "outputs": [],
   "source": [
    "#List Capacities\n",
    "url = \"v1/capacities\"\n",
    "result = client.get(url)\n",
    "df_items = pd.json_normalize(result.json()['value'])\n",
    "df_items"
   ]
  },
  {
   "cell_type": "code",
   "execution_count": null,
   "id": "befb0a21-184f-4a90-881b-d9d707d11b5c",
   "metadata": {
    "jupyter": {
     "outputs_hidden": true
    },
    "microsoft": {
     "language": "python",
     "language_group": "synapse_pyspark"
    }
   },
   "outputs": [],
   "source": [
    "number = 11  # Starting counter\n",
    "displayname = \"fabricuser\"\n",
    "workspace = f\"{displayname}{number}\" \n",
    "sempy_labs.admin.assign_workspaces_to_capacity('Trial US','Trial Switzerland',workspace )\n",
    "print(payload)"
   ]
  },
  {
   "cell_type": "code",
   "execution_count": null,
   "id": "d0b6cf7b-e528-4fdd-b6d0-14bb90a4b0a4",
   "metadata": {
    "microsoft": {
     "language": "python",
     "language_group": "synapse_pyspark"
    }
   },
   "outputs": [],
   "source": [
    "#clean up; deletion of workspaces\n",
    "displayname = \"fabricuser\" #change to whatever you want\n",
    "domain = \"@domainname.onmicrosoft.com\"  #insert your domainname\n",
    "number = 2  # Starting counter\n",
    "\n",
    "while number <= 15:  # Loop until number reaches 15\n",
    "    user =  f\"{displayname}{number}{domain}\"  # Concatenate displayname, number, and domain\n",
    "    workspace = f\"{displayname}{number}\" \n",
    "    sempy_labs.delete_workspace(workspace)\n",
    "    #print(payload)\n",
    "    number += 1  # Increment counter"
   ]
  },
  {
   "cell_type": "code",
   "execution_count": null,
   "id": "c54a8a4e-2ddf-4a70-bd6b-b4a72815b1f3",
   "metadata": {
    "microsoft": {
     "language": "python",
     "language_group": "synapse_pyspark"
    }
   },
   "outputs": [],
   "source": [
    "# automate assignemt of user to capacity\n",
    "sempy_labs.admin.assign_workspaces_to_capacity('Trial Switzerland','Trial US','fabricuser1' )"
   ]
  }
 ],
 "metadata": {
  "dependencies": {},
  "kernel_info": {
   "name": "synapse_pyspark"
  },
  "kernelspec": {
   "display_name": "synapse_pyspark",
   "name": "synapse_pyspark"
  },
  "language_info": {
   "name": "python"
  },
  "microsoft": {
   "language": "python",
   "language_group": "synapse_pyspark",
   "ms_spell_check": {
    "ms_spell_check_language": "en"
   }
  },
  "nteract": {
   "version": "nteract-front-end@1.0.0"
  },
  "spark_compute": {
   "compute_id": "/trident/default",
   "session_options": {
    "conf": {
     "spark.synapse.nbs.session.timeout": "1200000"
    }
   }
  }
 },
 "nbformat": 4,
 "nbformat_minor": 5
}
